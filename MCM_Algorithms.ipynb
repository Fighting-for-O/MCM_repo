{
 "cells": [
  {
   "cell_type": "code",
   "execution_count": 1,
   "metadata": {},
   "outputs": [],
   "source": [
    "import scipy \n"
   ]
  },
  {
   "cell_type": "markdown",
   "metadata": {},
   "source": [
    "## 线性规划\n",
    "\n",
    "$$\\max z=72x_1+64x_2 ---- > c @ x$$\n",
    "$$s.t. x_1+x_2\\leq 50 ----> A_{ub} @ x <= b_{ub}$$\n",
    "$$3x_1\\leq 100 ----> lb <= x <= ub $$\n",
    "$$12x_1+8x_2\\leq 480 ----> A_{ub} @ x <= b_{ub}$$\n",
    "$$x_1\\geq 0 ----> lb <= x <= ub$$\n",
    "$$x_2\\geq 0$$\n",
    "还可以添加A_eq @ x == b_eq"
   ]
  },
  {
   "cell_type": "code",
   "execution_count": 11,
   "metadata": {},
   "outputs": [],
   "source": [
    "from scipy.optimize import linprog\n",
    "c = [-72, -64]\n",
    "A = [[1, 1], [12, 8]]\n",
    "b = [50, 480]\n",
    "x1_bounds = (0, 100/3)\n",
    "x2_bounds = (0, None)\n",
    "res = linprog(c, A_ub=A, b_ub=b, bounds=[x1_bounds, x2_bounds])"
   ]
  },
  {
   "cell_type": "markdown",
   "metadata": {},
   "source": [
    "https://docs.scipy.org/doc/scipy/reference/generated/scipy.optimize.linprog.html  \n",
    "con：$b_eq - A_eq @ x$,一般为0  \n",
    "fun：优化后的极值  \n",
    "nit：迭代次数  \n",
    "slack：$b_{ub} - A_{ub} @ x$ ,一般为正数\n",
    "status:\n",
    "- 0 : Optimization proceeding nominally.\n",
    "- 1 : Iteration limit reached.\n",
    "- 2 : Problem appears to be infeasible.\n",
    "- 3 : Problem appears to be unbounded.\n",
    "- 4 : Numerical difficulties encountered."
   ]
  },
  {
   "cell_type": "code",
   "execution_count": 12,
   "metadata": {},
   "outputs": [
    {
     "data": {
      "text/plain": [
       "     con: array([], dtype=float64)\n",
       "     fun: -3359.999999915203\n",
       " message: 'Optimization terminated successfully.'\n",
       "     nit: 5\n",
       "   slack: array([1.26203759e-09, 1.21095809e-08])\n",
       "  status: 0\n",
       " success: True\n",
       "       x: array([20., 30.])"
      ]
     },
     "execution_count": 12,
     "metadata": {},
     "output_type": "execute_result"
    }
   ],
   "source": [
    "res"
   ]
  },
  {
   "cell_type": "code",
   "execution_count": null,
   "metadata": {},
   "outputs": [],
   "source": []
  }
 ],
 "metadata": {
  "kernelspec": {
   "display_name": "Python 3",
   "language": "python",
   "name": "python3"
  },
  "language_info": {
   "codemirror_mode": {
    "name": "ipython",
    "version": 3
   },
   "file_extension": ".py",
   "mimetype": "text/x-python",
   "name": "python",
   "nbconvert_exporter": "python",
   "pygments_lexer": "ipython3",
   "version": "3.8.5"
  }
 },
 "nbformat": 4,
 "nbformat_minor": 4
}
